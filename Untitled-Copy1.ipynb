{
 "cells": [
  {
   "cell_type": "code",
   "execution_count": 1,
   "metadata": {},
   "outputs": [],
   "source": [
    "import cv2\n",
    "import numpy as np\n",
    "import time"
   ]
  },
  {
   "cell_type": "code",
   "execution_count": 2,
   "metadata": {},
   "outputs": [],
   "source": [
    "args_config = 'truck_logo_weights/version_2.1/yolov4-obj.cfg'\n",
    "args_weights = 'truck_logo_weights/version_2.1/yolov4-obj_best.weights'\n",
    "args_names = 'truck_logo_weights/version_2.1/obj.names'"
   ]
  },
  {
   "cell_type": "code",
   "execution_count": 3,
   "metadata": {},
   "outputs": [],
   "source": [
    "CONF_THRESH, NMS_THRESH = 0.5, 0.5\n",
    "# Load the network\n",
    "net = cv2.dnn.readNetFromDarknet(args_config, args_weights)\n",
    "net.setPreferableBackend(cv2.dnn.DNN_BACKEND_OPENCV)\n",
    "net.setPreferableTarget(cv2.dnn.DNN_TARGET_CPU)"
   ]
  },
  {
   "cell_type": "code",
   "execution_count": 4,
   "metadata": {},
   "outputs": [],
   "source": [
    "# Get the output layer from YOLO\n",
    "layers = net.getLayerNames()\n",
    "output_layers = [layers[i[0] - 1] for i in net.getUnconnectedOutLayers()]"
   ]
  },
  {
   "cell_type": "code",
   "execution_count": 5,
   "metadata": {},
   "outputs": [
    {
     "name": "stdout",
     "output_type": "stream",
     "text": [
      "Input loaded successfully!\n"
     ]
    }
   ],
   "source": [
    "cap = cv2.VideoCapture(\"images/vid.mp4\")\n",
    "\n",
    "#cap.set(cv2.CAP_PROP_FPS, 10)\n",
    "#fps = int(cap.get(3))\n",
    "#print(\"fps:\", fps)\n",
    "\n",
    "# Check if camera opened successfully\n",
    "if (cap.isOpened()== False):\n",
    "    print(\"Error opening video stream or file\")\n",
    "else:\n",
    "    print('Input loaded successfully!')"
   ]
  },
  {
   "cell_type": "code",
   "execution_count": 6,
   "metadata": {},
   "outputs": [],
   "source": [
    "# Getting frame dimensions for the output file    \n",
    "r, img = cap.read()\n",
    "fshape = img.shape\n",
    "fheight = fshape[0]\n",
    "fwidth = fshape[1]"
   ]
  },
  {
   "cell_type": "code",
   "execution_count": 7,
   "metadata": {},
   "outputs": [],
   "source": [
    "# Defining the codec and create VideoWriter object.\n",
    "fourcc = cv2.VideoWriter_fourcc(*'MJPG')\n",
    "# Definining the Output file\n",
    "#out = cv2.VideoWriter(args[\"output\"],fourcc, 60.0, (fwidth,fheight))"
   ]
  },
  {
   "cell_type": "code",
   "execution_count": 8,
   "metadata": {},
   "outputs": [],
   "source": [
    "while True:\n",
    "    r, img = cap.read()\n",
    "    #img = imutils.resize(img, width=600)\n",
    "    #total_frames = total_frames + 1\n",
    "\n",
    "    (height, width) = img.shape[:2]\n",
    "\n",
    "    blob = cv2.dnn.blobFromImage(img, 0.00392, (416, 416), swapRB=True, crop=False)\n",
    "    net.setInput(blob)\n",
    "    layer_outputs = net.forward(output_layers)\n",
    "\n",
    "    class_ids, confidences, b_boxes = [], [], []\n",
    "    for output in layer_outputs:\n",
    "        for detection in output:\n",
    "            scores = detection[5:]\n",
    "            class_id = np.argmax(scores)\n",
    "            confidence = scores[class_id]\n",
    "\n",
    "            if confidence > CONF_THRESH:\n",
    "                center_x, center_y, w, h = (detection[0:4] * np.array([width, height, width, height])).astype('int')\n",
    "\n",
    "                x = int(center_x - w / 2)\n",
    "                y = int(center_y - h / 2)\n",
    "\n",
    "                b_boxes.append([x, y, int(w), int(h)])\n",
    "                confidences.append(float(confidence))\n",
    "                class_ids.append(int(class_id))\n",
    "\n",
    "    # Perform non maximum suppression for the bounding boxes to filter overlapping and low confident bounding boxes\n",
    "    try:\n",
    "        indices = cv2.dnn.NMSBoxes(b_boxes, confidences, CONF_THRESH, NMS_THRESH).flatten().tolist()\n",
    "        detection = True\n",
    "    except:\n",
    "        detection = False\n",
    "        #print('No known logos detected.')\n",
    "        #new_h, new_w = (width/500)*height, 500\n",
    "        #img = cv2.resize(img, (int((500/height)*width),500))\n",
    "        cv2.putText(img,'No Truck or Logo detected.', (10, 20), cv2.FONT_HERSHEY_SIMPLEX, 0.8, (0,0,255), 2)\n",
    "    \n",
    "    if detection:\n",
    "        # Draw the filtered bounding boxes with their class to the image\n",
    "        with open(args_names, \"r\") as f:\n",
    "            classes = [line.strip() for line in f.readlines()]\n",
    "        colors = np.random.uniform(0, 255, size=(len(classes), 3))\n",
    "\n",
    "        for index in indices:\n",
    "            x, y, w, h = b_boxes[index]\n",
    "            cv2.rectangle(img, (x, y), (x + w, y + h), (0,255,0), 1)\n",
    "            cv2.putText(img, classes[class_ids[index]], (x, y - 5), cv2.FONT_HERSHEY_SIMPLEX, 0.8, (0,255,0), 2)\n",
    "\n",
    "    # Writing the frame into the file 'output.avi'\n",
    "    #out.write(img)\n",
    "    time.sleep(1/20)\n",
    "    cv2.imshow(\"Application\", img)\n",
    "    key = cv2.waitKey(1)\n",
    "    if key & 0xFF == ord('q'):\n",
    "        break\n",
    "# When everything done, release the video capture and video write objects\n",
    "cap.release()\n",
    "#out.release()\n",
    "\n",
    "# Closes all the frames\n",
    "cv2.destroyAllWindows()"
   ]
  },
  {
   "cell_type": "code",
   "execution_count": null,
   "metadata": {},
   "outputs": [],
   "source": []
  }
 ],
 "metadata": {
  "kernelspec": {
   "display_name": "Python 3",
   "language": "python",
   "name": "python3"
  },
  "language_info": {
   "codemirror_mode": {
    "name": "ipython",
    "version": 3
   },
   "file_extension": ".py",
   "mimetype": "text/x-python",
   "name": "python",
   "nbconvert_exporter": "python",
   "pygments_lexer": "ipython3",
   "version": "3.8.5"
  }
 },
 "nbformat": 4,
 "nbformat_minor": 4
}
